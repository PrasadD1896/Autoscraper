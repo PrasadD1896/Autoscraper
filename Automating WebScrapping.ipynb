{
 "cells": [
  {
   "cell_type": "markdown",
   "id": "9a872490",
   "metadata": {},
   "source": [
    "# AutoScraper - A Python Library for Data Extraction"
   ]
  },
  {
   "cell_type": "markdown",
   "id": "d899feac",
   "metadata": {},
   "source": [
    "Autoscraper is a Python library that allows you to extract data from websites by automatically generating web scrapers. In other words, you provide Autoscraper with a URL and the data you want to extract, and it will use machine learning algorithms to analyze the HTML of the page and generate code that extracts the desired data. This can save you a lot of time and effort compared to manually writing web scraping code. With Autoscraper, you can quickly and easily extract data from multiple pages on a website, or even across multiple websites, without needing to know much about web scraping or programming."
   ]
  },
  {
   "cell_type": "markdown",
   "id": "50e871b3",
   "metadata": {},
   "source": [
    "In this module, we are going to scrap data for 'Monitors' on Amazon using Autoscraper Library."
   ]
  },
  {
   "cell_type": "code",
   "execution_count": 10,
   "id": "de8b3e9f",
   "metadata": {},
   "outputs": [
    {
     "name": "stdout",
     "output_type": "stream",
     "text": [
      "Defaulting to user installation because normal site-packages is not writeable\n",
      "Requirement already satisfied: autoscraper in c:\\users\\admin\\appdata\\roaming\\python\\python39\\site-packages (1.1.14)\n",
      "Requirement already satisfied: bs4 in c:\\users\\admin\\appdata\\roaming\\python\\python39\\site-packages (from autoscraper) (0.0.1)\n",
      "Requirement already satisfied: requests in c:\\programdata\\anaconda3\\lib\\site-packages (from autoscraper) (2.27.1)\n",
      "Requirement already satisfied: lxml in c:\\programdata\\anaconda3\\lib\\site-packages (from autoscraper) (4.8.0)\n",
      "Requirement already satisfied: beautifulsoup4 in c:\\programdata\\anaconda3\\lib\\site-packages (from bs4->autoscraper) (4.10.0)\n",
      "Requirement already satisfied: soupsieve>1.2 in c:\\programdata\\anaconda3\\lib\\site-packages (from beautifulsoup4->bs4->autoscraper) (2.3.1)\n",
      "Requirement already satisfied: urllib3<1.27,>=1.21.1 in c:\\programdata\\anaconda3\\lib\\site-packages (from requests->autoscraper) (1.26.9)\n",
      "Requirement already satisfied: idna<4,>=2.5 in c:\\programdata\\anaconda3\\lib\\site-packages (from requests->autoscraper) (3.3)\n",
      "Requirement already satisfied: charset-normalizer~=2.0.0 in c:\\programdata\\anaconda3\\lib\\site-packages (from requests->autoscraper) (2.0.4)\n",
      "Requirement already satisfied: certifi>=2017.4.17 in c:\\programdata\\anaconda3\\lib\\site-packages (from requests->autoscraper) (2021.10.8)\n"
     ]
    }
   ],
   "source": [
    "!pip install autoscraper"
   ]
  },
  {
   "cell_type": "code",
   "execution_count": 11,
   "id": "fa6904d7",
   "metadata": {},
   "outputs": [],
   "source": [
    "from autoscraper import AutoScraper"
   ]
  },
  {
   "cell_type": "code",
   "execution_count": 12,
   "id": "612840fa",
   "metadata": {},
   "outputs": [],
   "source": [
    "url = \"https://www.amazon.in/s?k=monitors&crid=5WDVA9J10ET1&sprefix=monitor%2Caps%2C379&ref=nb_sb_noss_1\"\n",
    "items = [\"Samsung 24-inch (60.46cm) 1920 X 1080 Pixels FHD Monitor, IPS, 75 Hz, Bezel Less Design, AMD FreeSync, Flicker Free, HDMI, D-sub, (LF24T350FHWXXL, Dark Blue Gray)\",\"₹8,998\",\"3,371\"]"
   ]
  },
  {
   "cell_type": "code",
   "execution_count": 13,
   "id": "e0585db6",
   "metadata": {},
   "outputs": [
    {
     "name": "stdout",
     "output_type": "stream",
     "text": [
      "['Amazon\\'s Choicefor \"monitors\"', 'Acer EK220Q 21.5 Inch (54.61 cm) Full HD (1920x1080) VA Panel LCD Monitor with LED Back Light I 1 MS VRB, 100Hz Refresh I 250 Nits I HDMI & VGA Ports with HDMI Cable I Eye Care Features (Black)', 'Best sellerin Monitors', 'Samsung 24-inch (60.46cm) 1920 X 1080 Pixels FHD Monitor, IPS, 75 Hz, Bezel Less Design, AMD FreeSync, Flicker Free, HDMI, D-sub, (LF24T350FHWXXL, Dark Blue Gray)', 'Acer EK220Q 21.5 Inch (54.61 Cm) Full HD (1920x1080 Pixels) VA Panel LCD Monitor with LED Back Light I 250 Nits I HDMI, VGA Ports (Black)', 'ZEBRONICS 24 Inch (60.4 Cm) Widescreen 1920 X 1080 Pixels LED Monitor, IPS, Ultra Slim, FHD 1920x1080, HDMI, VGA, 250nits, Built in Speaker, Wall mountable, 75hz ZEB-A24FHD, Black', 'ZEBRONICS Zeb-V16HD LED Monitor with15.4 with Supporting HDMI, has VGA Input, HD 1280 x 800, Glossy Panel, Slim Feature and Wall mountable.', 'ZEBRONICS 60.4cms 24inch Gaming Monitor, 165Hz, IPS, Ultra Slim, FHD 1920x1080 Pixels, Display Port, HDMI, 300nits, USB, Built in Speaker, Wall mountable, Widescreen - ZEB-A24FHD LED, Black', 'LG 27Ml600 Full Hd 27 Inch (69 Cm) LCD 1920 X 1080 Pixels IPS Monitor 3 Side Borderless Design - Dual Hdmi & Vga Port - Reader Mode and Flicker Free Screen (Work & Education) - (White)', 'Acer EK240YC 23.8 Inch (60.4cm) Full HD (1920x1080) Pixels VA Panel LCD Monitor with LED Back Light I 250 Nits I HDMI, VGA Ports I Eye Care Features Like Bluelight Shield, (Black)', 'BenQ GW2480 24 inch (60 cm) 1920 x 1080 Pixels IPS Full HD Ultra-Slim Bezel Monitor- Eye Care, Anti-Glare, Brightness Intelligence, Low Blue Light, HDMI, DP, Speakers, VESA Wall Mountable (Black)', 'LG 22Mp68Vq 22 Inch (55 Cm) LCD 1920 X 1080 Pixels IPS Monitor - Full Hd, with Vga, Hdmi, Dvi, Audio Out Ports (Black)', 'BenQ GW2780 27 inch (68 cm) 1920 x 1080 Pixels IPS Full HD Ultra-Slim Bezel Monitor- Eye Care, Anti-Glare, Brightness Intelligence, Speakers, Low Blue Light, HDMI, DP, VESA Wall Mountable (Black)', 'Acer HA270 27 Inch (68.58 Cm) 1920 X 1080 Pixels, Full HD IPS LCD Monitor with LED Back Light Technology I Ultra Slim, 6.6mm Thick Frameless Design AMD Free Sync Monitor (White)', 'Acer Nitro Vg270 S 27 Inch (68.58 Cm) LCD 1920 x 1080 Pixels Monitor with LED Backlight Full Hd IPS Gaming I 0.5 Ms Response Time I 165Hz Refresh Rate I HDR 10 I AMD Radeon Free Sync I (Black)', 'Lenovo Q-Series 24 Inch (60.5Cm) 1920x1080 Pixels FHD IPS Monitor | Height Adjustment, 2X3W Speakers, 75Hz, AMD FreeSync, HDMI, DP, Smart Display Customization, Raven Black', 'LG 24Gn650 Ultragear Gaming 24 Inch (60 Cm) LCD 1920 x 1080 Pixels IPS Full Hd - 144Hz, 1Ms, G-Sync Compatible, Freesync Premium, Srgb 99%, Hdmi X 2, Display Port, HP Out, HDR 10 (Black)', 'ZEBRONICS A22FHD LED (21.5\") (54.61 cm) LED 1920x1080 Pixels FHD Resolution Monitor with HDMI + VGA Dual Input, Built-in Speaker, Wall Mount Facility, max 220 Nits Brightness, Green', '₹6,098', '₹7,699', '₹8,998', '₹19,110', '₹5,946', '₹13,750', '₹7,498', '₹24,999', '₹2,998', '₹4,999', '₹9,298', '₹33,999', '₹13,798', '₹22,200', '₹6,998', '₹17,500', '₹8,928', '₹13,990', '₹7,998', '₹14,250', '₹11,988', '₹16,990', '₹10,175', '₹19,000', '₹13,479', '₹26,999', '₹12,449', '₹20,890', '₹14,298', '₹24,500', '₹4,949', '₹21,999', '2,946', '3,371', '357', '266', '188', '2,457', '19,106', '8,529', '1,033', '3,039', '1,833', '869', '552']\n"
     ]
    }
   ],
   "source": [
    "scraper = AutoScraper()\n",
    "output = scraper.build(url,items)\n",
    "print(output)"
   ]
  },
  {
   "cell_type": "code",
   "execution_count": 14,
   "id": "6e93709f",
   "metadata": {},
   "outputs": [
    {
     "data": {
      "text/plain": [
       "{'rule_6zzb': ['Amazon\\'s Choicefor \"monitors\"',\n",
       "  'Acer EK220Q 21.5 Inch (54.61 cm) Full HD (1920x1080) VA Panel LCD Monitor with LED Back Light I 1 MS VRB, 100Hz Refresh I 250 Nits I HDMI & VGA Ports with HDMI Cable I Eye Care Features (Black)',\n",
       "  'Best sellerin Monitors',\n",
       "  'Samsung 24-inch (60.46cm) 1920 X 1080 Pixels FHD Monitor, IPS, 75 Hz, Bezel Less Design, AMD FreeSync, Flicker Free, HDMI, D-sub, (LF24T350FHWXXL, Dark Blue Gray)',\n",
       "  'Acer EK220Q 21.5 Inch (54.61 Cm) Full HD (1920x1080 Pixels) VA Panel LCD Monitor with LED Back Light I 250 Nits I HDMI, VGA Ports (Black)',\n",
       "  'ZEBRONICS 24 Inch (60.4 Cm) Widescreen 1920 X 1080 Pixels LED Monitor, IPS, Ultra Slim, FHD 1920x1080, HDMI, VGA, 250nits, Built in Speaker, Wall mountable, 75hz ZEB-A24FHD, Black',\n",
       "  'ZEBRONICS Zeb-V16HD LED Monitor with15.4 with Supporting HDMI, has VGA Input, HD 1280 x 800, Glossy Panel, Slim Feature and Wall mountable.',\n",
       "  'ZEBRONICS 60.4cms 24inch Gaming Monitor, 165Hz, IPS, Ultra Slim, FHD 1920x1080 Pixels, Display Port, HDMI, 300nits, USB, Built in Speaker, Wall mountable, Widescreen - ZEB-A24FHD LED, Black',\n",
       "  'LG 27Ml600 Full Hd 27 Inch (69 Cm) LCD 1920 X 1080 Pixels IPS Monitor 3 Side Borderless Design - Dual Hdmi & Vga Port - Reader Mode and Flicker Free Screen (Work & Education) - (White)',\n",
       "  'Acer EK240YC 23.8 Inch (60.4cm) Full HD (1920x1080) Pixels VA Panel LCD Monitor with LED Back Light I 250 Nits I HDMI, VGA Ports I Eye Care Features Like Bluelight Shield, (Black)',\n",
       "  'BenQ GW2480 24 inch (60 cm) 1920 x 1080 Pixels IPS Full HD Ultra-Slim Bezel Monitor- Eye Care, Anti-Glare, Brightness Intelligence, Low Blue Light, HDMI, DP, Speakers, VESA Wall Mountable (Black)',\n",
       "  'LG 22Mp68Vq 22 Inch (55 Cm) LCD 1920 X 1080 Pixels IPS Monitor - Full Hd, with Vga, Hdmi, Dvi, Audio Out Ports (Black)',\n",
       "  'BenQ GW2780 27 inch (68 cm) 1920 x 1080 Pixels IPS Full HD Ultra-Slim Bezel Monitor- Eye Care, Anti-Glare, Brightness Intelligence, Speakers, Low Blue Light, HDMI, DP, VESA Wall Mountable (Black)',\n",
       "  'Acer HA270 27 Inch (68.58 Cm) 1920 X 1080 Pixels, Full HD IPS LCD Monitor with LED Back Light Technology I Ultra Slim, 6.6mm Thick Frameless Design AMD Free Sync Monitor (White)',\n",
       "  'Acer Nitro Vg270 S 27 Inch (68.58 Cm) LCD 1920 x 1080 Pixels Monitor with LED Backlight Full Hd IPS Gaming I 0.5 Ms Response Time I 165Hz Refresh Rate I HDR 10 I AMD Radeon Free Sync I (Black)',\n",
       "  'Lenovo Q-Series 24 Inch (60.5Cm) 1920x1080 Pixels FHD IPS Monitor | Height Adjustment, 2X3W Speakers, 75Hz, AMD FreeSync, HDMI, DP, Smart Display Customization, Raven Black',\n",
       "  'LG 24Gn650 Ultragear Gaming 24 Inch (60 Cm) LCD 1920 x 1080 Pixels IPS Full Hd - 144Hz, 1Ms, G-Sync Compatible, Freesync Premium, Srgb 99%, Hdmi X 2, Display Port, HP Out, HDR 10 (Black)',\n",
       "  'ZEBRONICS A22FHD LED (21.5\") (54.61 cm) LED 1920x1080 Pixels FHD Resolution Monitor with HDMI + VGA Dual Input, Built-in Speaker, Wall Mount Facility, max 220 Nits Brightness, Green'],\n",
       " 'rule_ysyd': ['₹6,098',\n",
       "  '₹8,998',\n",
       "  '₹5,946',\n",
       "  '₹7,498',\n",
       "  '₹2,998',\n",
       "  '₹9,298',\n",
       "  '₹13,798',\n",
       "  '₹6,998',\n",
       "  '₹8,928',\n",
       "  '₹7,998',\n",
       "  '₹11,988',\n",
       "  '₹10,175',\n",
       "  '₹13,479',\n",
       "  '₹12,449',\n",
       "  '₹14,298',\n",
       "  '₹4,949'],\n",
       " 'rule_7u3c': ['₹6,098',\n",
       "  '₹8,998',\n",
       "  '₹5,946',\n",
       "  '₹7,498',\n",
       "  '₹2,998',\n",
       "  '₹9,298',\n",
       "  '₹13,798',\n",
       "  '₹6,998',\n",
       "  '₹8,928',\n",
       "  '₹7,998',\n",
       "  '₹11,988',\n",
       "  '₹10,175',\n",
       "  '₹13,479',\n",
       "  '₹12,449',\n",
       "  '₹14,298',\n",
       "  '₹4,949'],\n",
       " 'rule_d2a7': ['2,946',\n",
       "  '3,371',\n",
       "  '2,946',\n",
       "  '357',\n",
       "  '266',\n",
       "  '188',\n",
       "  '2,457',\n",
       "  '2,946',\n",
       "  '19,106',\n",
       "  '8,529',\n",
       "  '19,106',\n",
       "  '1,033',\n",
       "  '3,039',\n",
       "  '1,833',\n",
       "  '869',\n",
       "  '552']}"
      ]
     },
     "execution_count": 14,
     "metadata": {},
     "output_type": "execute_result"
    }
   ],
   "source": [
    "scraper.get_result_similar(url,grouped = True)"
   ]
  },
  {
   "cell_type": "code",
   "execution_count": 15,
   "id": "ce7c9e46",
   "metadata": {},
   "outputs": [],
   "source": [
    "scraper.set_rule_aliases({\"rule_6zzb\":\"Title\"})\n",
    "scraper.keep_rules(['rule_6zzb'])\n",
    "scraper.save('Monitor Search')"
   ]
  },
  {
   "cell_type": "code",
   "execution_count": 16,
   "id": "46db52cc",
   "metadata": {},
   "outputs": [],
   "source": [
    "results = scraper.get_result_similar('https://www.amazon.in/s?k=keyboard&sprefix=keybo%2Caps%2C506&ref=nb_sb_ss_ts-doa-p_2_5',group_by_alias = True)"
   ]
  },
  {
   "cell_type": "code",
   "execution_count": 17,
   "id": "a65776e2",
   "metadata": {},
   "outputs": [
    {
     "data": {
      "text/plain": [
       "['Zebronics ZEB-KM2100 Multimedia USB Keyboard Comes with 114 Keys Including 12 Dedicated Multimedia Keys & with Rupee Key',\n",
       " 'ZEBRONICS K24 USB Keyboard with Long Life 8 Million Keystrokes, Silent & Comfortable Use, Slim Design, Retractable Stand, 1.5 Meter Textured Cable, Chiclet Keys and Uv Coated Keycaps',\n",
       " 'Ant Value Fkbri01 Wired Usb Multi-Device Keyboardâ  (Black)',\n",
       " 'HP 150 Wired Keyboard, Quick, Comfy and Ergonomically Design, 12Fn Shortcut Keys, Plug and Play USB Connection and LED Indicator, 3 Years Warranty',\n",
       " 'Logitech K480 Wireless Multi-Device Keyboard For Windows, Macos, Ipados, Android Or Chrome Os, Bluetooth, Compact, Compatible With Pc, Mac, Laptop, Smartphone, Tablet - Black',\n",
       " 'boAt Redgear Grim V2 Wired Gaming Keyboard with Double Injected Keycaps, Floating Keycaps, Ergonomic Design, 3 Mix LED Modes and Windows Key Lock for PC',\n",
       " 'RPM Euro Games Gaming Keyboard Wired | 87 Keys Space Saving Design | Membrane Keyboard with Mechanical Feel | LED Backlit & Spill Proof Design',\n",
       " 'Redgear Shadow Blade Mechanical Keyboard with Drive Customization, Spectrum LED Lights, Media Control Knob and Wrist Support (Black)',\n",
       " 'Best sellerin Keyboard & Mouse Sets',\n",
       " 'Dell USB Wireless Keyboard and Mouse Set- KM3322W, Anti-Fade & Spill-Resistant Keys, up to 36 Month Battery Life, 3Y Advance Exchange Warranty, Black',\n",
       " 'HP GK320 Wired Full Size RGB Backlight Mechanical Gaming Keyboard, 4 LED Indicators, Mechanical Switches, Double Injection Key Caps, and Windows Lock Key, 3 Years Warranty',\n",
       " 'Portronics Bubble Multimedia Wireless Keyboard 2.4 GHz & Bluetooth 5.0 Connectivity, Noiseless Experience, Compact Size, Shortcut Keys Function(Black)',\n",
       " 'HP K300 Backlit Membrane Wired Gaming Keyboard with Mixed Color Lighting, 4 LED Indicators, Matte Finish Double Injection Key Caps and Windows Lock Key / 3 Years Warranty(4QM95AA)',\n",
       " 'Best sellerin Gaming Keyboards',\n",
       " 'Zebronics Zeb-Transformer Gaming Keyboard and Mouse Combo (USB, Braided Cable)',\n",
       " 'ZEBRONICS Zeb-DLK01 Wired USB Multimedia Keyboard with 104 UV Coated Keys, Rupee Key, 12 Hot Keys(White)',\n",
       " 'HP K500F Backlit Membrane Wired Gaming Keyboard with Mixed Color Lighting, Metal Panel with Logo Lighting, 26 Anti-Ghosting Keys, and Windows Lock Key / 3 Years Warranty(7ZZ97AA)',\n",
       " 'ZEBRONICS ZEB-K04 Mini Multimedia USB Wired Keyboard with 96 UV Coated Keys, Slim & Compact, for PC/Mac']"
      ]
     },
     "execution_count": 17,
     "metadata": {},
     "output_type": "execute_result"
    }
   ],
   "source": [
    "results['Title']"
   ]
  },
  {
   "cell_type": "code",
   "execution_count": null,
   "id": "6248448f",
   "metadata": {},
   "outputs": [],
   "source": []
  }
 ],
 "metadata": {
  "kernelspec": {
   "display_name": "Python 3 (ipykernel)",
   "language": "python",
   "name": "python3"
  },
  "language_info": {
   "codemirror_mode": {
    "name": "ipython",
    "version": 3
   },
   "file_extension": ".py",
   "mimetype": "text/x-python",
   "name": "python",
   "nbconvert_exporter": "python",
   "pygments_lexer": "ipython3",
   "version": "3.9.12"
  }
 },
 "nbformat": 4,
 "nbformat_minor": 5
}
